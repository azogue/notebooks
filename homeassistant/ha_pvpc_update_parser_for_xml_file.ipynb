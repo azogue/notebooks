{
 "cells": [
  {
   "cell_type": "markdown",
   "metadata": {},
   "source": [
    "# Update PVPC parsing engine\n",
    "\n",
    "Old version of the XML file parsing was implemented with `BeautifulSoup`, which is far too powerful and complex for the task at hand. \n",
    "\n",
    "Also, and because of this dependency, it can be seen as a _web scraper_, which are now discouraged of being included as new integrations in **HomeAssistant Core**.\n",
    "\n",
    "\n",
    "### Objective\n",
    "\n",
    "Make a simpler parser for the xml files downloaded from `https://api.esios.ree.es/archives/80/download?date=`, removing `bs4` dependency and using **`xmltodict`**, which is already in use in some HA integrations.\n",
    "\n",
    "\n",
    "#### Dependencies for this notebook\n",
    "\n",
    "- `requests`\n",
    "- `dateutil`\n",
    "- `xmltodict` (new xml parser)\n",
    "- `bs4` (for the old parser)"
   ]
  },
  {
   "cell_type": "code",
   "execution_count": 21,
   "metadata": {},
   "outputs": [
    {
     "name": "stdout",
     "output_type": "stream",
     "text": [
      "<PVPCDesgloseHorario xmlns=\"http://sujetos.esios.ree.es/schemas/2014/04/01/PVPCDesgloseHorario-esios-MP/\">\n",
      "<IdentificacionMensaje v=\"pvpcdesglosehorario_20200222\"/>\n",
      "<VersionMensaje v=\"1\"/>\n",
      "<TipoMensaje v=\"Z55\"/>\n",
      "<TipoProceso v=\"A01\"/>\n",
      "<TipoClasificacion v=\"A01\"/>\n",
      "<IdentificacionRemitente codificacion=\"A01\" v=\"10XES-REE------E\"/>\n",
      "<FuncionRemitente v=\"A04\"/>\n",
      "<IdentificacionDestinatario codificacion=\"A01\" v=\"10XES-REE------E\"/>\n",
      "<FuncionDestinatario v=\"A04\"/>\n",
      "<FechaHoraMensaje v=\"2020-02-21T19:50:38Z\"/>                        \n",
      "<Horizonte v=\"2020-02-21T23:00Z/2020-02-22T23:00Z\"/>\n",
      "<SeriesTemporales>\n"
     ]
    }
   ],
   "source": [
    "import json\n",
    "from datetime import date, datetime\n",
    "from typing import List, Tuple\n",
    "\n",
    "from dateutil.parser import parse\n",
    "from pytz import timezone\n",
    "\n",
    "import requests\n",
    "import xmltodict\n",
    "\n",
    "TZ = timezone(\"Europe/Madrid\")\n",
    "_RESOURCE = \"https://api.esios.ree.es/archives/80/download?date={day:%Y-%m-%d}\"\n",
    "\n",
    "# Get a file sample with today prices\n",
    "xml_data = requests.get(_RESOURCE.format(day=date.today())).text\n",
    "print(xml_data[:600])"
   ]
  },
  {
   "cell_type": "code",
   "execution_count": 22,
   "metadata": {},
   "outputs": [
    {
     "data": {
      "text/plain": [
       "(datetime.date(2020, 2, 22),\n",
       " [0.0569,\n",
       "  0.05512,\n",
       "  0.05344,\n",
       "  0.05377,\n",
       "  0.05367,\n",
       "  0.05381,\n",
       "  0.05179,\n",
       "  0.05226,\n",
       "  0.05294,\n",
       "  0.05215,\n",
       "  0.05225,\n",
       "  0.05128,\n",
       "  0.11663,\n",
       "  0.11651,\n",
       "  0.11638,\n",
       "  0.11598,\n",
       "  0.11614,\n",
       "  0.11725,\n",
       "  0.11918,\n",
       "  0.12479,\n",
       "  0.12749,\n",
       "  0.12609,\n",
       "  0.0569,\n",
       "  0.05602])"
      ]
     },
     "execution_count": 22,
     "metadata": {},
     "output_type": "execute_result"
    }
   ],
   "source": [
    "def extract_prices_for_tariff(\n",
    "    xml_data: str, tz: timezone = TZ, tariff: int = 2\n",
    ") -> Tuple[date, List[float]]:\n",
    "    \"\"\"\n",
    "    PVPC xml data extractor.\n",
    "    \n",
    "    Extract hourly prices for the selected tariff from the xml daily file download\n",
    "    of the official _Spain Electric Network_ (Red Eléctrica Española, REE) \n",
    "    for the _Voluntary Price for Small Consumers_ \n",
    "    (Precio Voluntario para el Pequeño Consumidor, PVPC).\n",
    "    \"\"\"\n",
    "    data = xmltodict.parse(xml_data)['PVPCDesgloseHorario']\n",
    "    \n",
    "    str_horiz = data['Horizonte']['@v']\n",
    "    day: date = parse(str_horiz.split(\"/\")[0]).astimezone(TZ).date()\n",
    "    \n",
    "    tariff_id = f\"Z0{tariff}\"\n",
    "    prices = next(\n",
    "        filter(\n",
    "            lambda x: (\n",
    "                x['TerminoCosteHorario']['@v'] == \"FEU\" \n",
    "                and x['TipoPrecio']['@v'] == tariff_id\n",
    "            ), \n",
    "            data['SeriesTemporales'],\n",
    "        )\n",
    "    )\n",
    "    price_values = [\n",
    "        round(float(pair[\"Ctd\"][\"@v\"]), 5) for pair in prices['Periodo'][\"Intervalo\"]\n",
    "    ]\n",
    "    return day, price_values\n",
    "\n",
    "\n",
    "day_prices = extract_prices_for_tariff(xml_data, TZ, tariff=2)\n",
    "day_prices"
   ]
  },
  {
   "cell_type": "code",
   "execution_count": 23,
   "metadata": {},
   "outputs": [
    {
     "data": {
      "text/plain": [
       "(datetime.date(2020, 2, 22),\n",
       " [0.0569,\n",
       "  0.05512,\n",
       "  0.05344,\n",
       "  0.05377,\n",
       "  0.05367,\n",
       "  0.05381,\n",
       "  0.05179,\n",
       "  0.05226,\n",
       "  0.05294,\n",
       "  0.05215,\n",
       "  0.05225,\n",
       "  0.05128,\n",
       "  0.11663,\n",
       "  0.11651,\n",
       "  0.11638,\n",
       "  0.11598,\n",
       "  0.11614,\n",
       "  0.11725,\n",
       "  0.11918,\n",
       "  0.12479,\n",
       "  0.12749,\n",
       "  0.12609,\n",
       "  0.0569,\n",
       "  0.05602])"
      ]
     },
     "execution_count": 23,
     "metadata": {},
     "output_type": "execute_result"
    }
   ],
   "source": [
    "# OLD version\n",
    "from bs4 import BeautifulSoup as Soup\n",
    "\n",
    "\n",
    "def scrap_xml_official_pvpc_daily_prices(\n",
    "    html_text: str, tz: timezone = TZ, tariff: int = 2\n",
    ") -> Tuple[date, List[float]]:\n",
    "    \"\"\"\n",
    "    Scrape XML file content to extract hourly prices for the selected tariff\n",
    "\n",
    "    Using `bs4` with 'html5lib' parser\n",
    "    \"\"\"\n",
    "    ident_tarifa = \"Z0{}\".format(tariff)\n",
    "    ident_precio = \"FEU\"\n",
    "\n",
    "    soup_pvpc = Soup(html_text, \"html5lib\")\n",
    "    str_horiz = soup_pvpc.find_all(\"horizonte\")[0][\"v\"]\n",
    "    ts_st = parse(str_horiz.split(\"/\")[0]).astimezone(tz).date()\n",
    "    for serie in soup_pvpc.find_all(\"identificacionseriestemporales\"):\n",
    "        columna = serie.find_next(\"terminocostehorario\")[\"v\"]\n",
    "        if (\n",
    "            columna == ident_precio\n",
    "            and serie.tipoprecio[\"v\"] == ident_tarifa\n",
    "            and len(serie.find_all(\"tipoprecio\")) > 0\n",
    "        ):\n",
    "            values = [round(float(v[\"v\"]), 5) for v in serie.find_all(\"ctd\")]\n",
    "            return ts_st, values\n",
    "    return ts_st, []\n",
    "\n",
    "\n",
    "day_prices_old = scrap_xml_official_pvpc_daily_prices(xml_data, TZ, tariff=2)\n",
    "day_prices_old"
   ]
  },
  {
   "cell_type": "code",
   "execution_count": 24,
   "metadata": {},
   "outputs": [
    {
     "name": "stdout",
     "output_type": "stream",
     "text": [
      "6.15 ms ± 23 µs per loop (mean ± std. dev. of 7 runs, 100 loops each)\n",
      "68.9 ms ± 246 µs per loop (mean ± std. dev. of 7 runs, 10 loops each)\n"
     ]
    }
   ],
   "source": [
    "# Comparison\n",
    "assert day_prices == day_prices_old\n",
    "%timeit extract_prices_for_tariff(xml_data)\n",
    "%timeit scrap_xml_official_pvpc_daily_prices(xml_data)"
   ]
  },
  {
   "cell_type": "markdown",
   "metadata": {},
   "source": [
    "### Using new resource with JSON file :)"
   ]
  },
  {
   "cell_type": "code",
   "execution_count": 32,
   "metadata": {},
   "outputs": [
    {
     "name": "stdout",
     "output_type": "stream",
     "text": [
      "[{'Dia': '22/02/2020', 'Hora': '00-01', 'GEN': '106,17', 'NOC': '56,90', 'VHC': '60,87', 'COFGEN': '0,000110046649000000', 'COFNOC': '0,000181360051000000', 'COFVHC': '0,000156612611000000', 'PMHGEN': '52,03', 'PMHNOC': '49,65', 'PMHVHC': '52,33', 'SAHGEN': '2,19', 'SAHNOC': '2,09', 'SAHVHC': '2,20', 'FOMGEN': '0,03', 'FOMNOC': '0,03', 'FOMVHC': '0,03', 'FOSGEN': '0,17', 'FOSNOC': '0,16', 'FOSVHC': '0,17', 'INTGEN': '0,04', 'INTNOC': '0,04', 'INTVHC': '0,04', 'PCAPGEN': '5,76', 'PCAPNOC': '0,95', 'PCAPVHC': '1,36', 'TEUGEN': '44,03', 'TEUNOC': '2,22', 'TEUVHC': '2,88', 'CCVGEN': '1,92', 'CCVNOC': '1,77', 'CCVVHC': '1,87'}]\n"
     ]
    },
    {
     "data": {
      "text/plain": [
       "(datetime.date(2020, 2, 22),\n",
       " [0.0569,\n",
       "  0.05512,\n",
       "  0.05344,\n",
       "  0.05377,\n",
       "  0.05367,\n",
       "  0.05381,\n",
       "  0.05179,\n",
       "  0.05226,\n",
       "  0.05294,\n",
       "  0.05215,\n",
       "  0.05225,\n",
       "  0.05128,\n",
       "  0.11663,\n",
       "  0.11651,\n",
       "  0.11638,\n",
       "  0.11598,\n",
       "  0.11614,\n",
       "  0.11725,\n",
       "  0.11918,\n",
       "  0.12479,\n",
       "  0.12749,\n",
       "  0.12609,\n",
       "  0.0569,\n",
       "  0.05602])"
      ]
     },
     "execution_count": 32,
     "metadata": {},
     "output_type": "execute_result"
    }
   ],
   "source": [
    "_RESOURCE_JSON = \"https://api.esios.ree.es/archives/70/download?date={day:%Y-%m-%d}\"\n",
    "\n",
    "\n",
    "def extract_prices_for_tariff_json(\n",
    "    json_data: str, tz: timezone = TZ, tariff: int = 2\n",
    ") -> Tuple[date, List[float]]:\n",
    "    \"\"\"\n",
    "    PVPC json data extractor.\n",
    "    \n",
    "    Extract hourly prices for the selected tariff from the JSON daily file download\n",
    "    of the official _Spain Electric Network_ (Red Eléctrica Española, REE) \n",
    "    for the _Voluntary Price for Small Consumers_ \n",
    "    (Precio Voluntario para el Pequeño Consumidor, PVPC).\n",
    "    \"\"\"\n",
    "    tariff_keys = {1: \"GEN\", 2: \"NOC\", 3: \"VHC\"}\n",
    "    key = tariff_keys[tariff]\n",
    "    \n",
    "    day = datetime.strptime(json_data[\"PVPC\"][0][\"Dia\"], \"%d/%m/%Y\").date()\n",
    "    price_values = [\n",
    "        round(float(x[key].replace(\",\", \".\")) / 1000.0, 5) \n",
    "        for x in json_data[\"PVPC\"]\n",
    "    ]\n",
    "    return day, price_values\n",
    "\n",
    "\n",
    "json_data = requests.get(_RESOURCE_JSON.format(day=date.today())).json()\n",
    "print(json_data[\"PVPC\"][:1])\n",
    "\n",
    "day_prices_json = extract_prices_for_tariff_json(json_data)\n",
    "day_prices_json"
   ]
  },
  {
   "cell_type": "code",
   "execution_count": 33,
   "metadata": {},
   "outputs": [
    {
     "name": "stdout",
     "output_type": "stream",
     "text": [
      "17.6 µs ± 43.8 ns per loop (mean ± std. dev. of 7 runs, 100000 loops each)\n"
     ]
    }
   ],
   "source": [
    "assert day_prices == day_prices_json\n",
    "%timeit extract_prices_for_tariff_json(json_data)"
   ]
  },
  {
   "cell_type": "markdown",
   "metadata": {},
   "source": [
    "Obviously, the _apparent_ gain in speed is not real, as now the JSON is parsed separately. In equal conditions, XML is faster:"
   ]
  },
  {
   "cell_type": "code",
   "execution_count": 46,
   "metadata": {},
   "outputs": [
    {
     "name": "stdout",
     "output_type": "stream",
     "text": [
      "79.2 ms ± 11.1 ms per loop (mean ± std. dev. of 7 runs, 10 loops each)\n",
      "109 ms ± 1.64 ms per loop (mean ± std. dev. of 7 runs, 10 loops each)\n"
     ]
    }
   ],
   "source": [
    "%timeit extract_prices_for_tariff(requests.get(_RESOURCE.format(day=date.today())).text)\n",
    "%timeit extract_prices_for_tariff_json(requests.get(_RESOURCE_JSON.format(day=date.today())).json())"
   ]
  },
  {
   "cell_type": "code",
   "execution_count": 47,
   "metadata": {},
   "outputs": [
    {
     "name": "stdout",
     "output_type": "stream",
     "text": [
      "JSON took 0.140 sec\n",
      "XML took 0.067 sec\n"
     ]
    }
   ],
   "source": [
    "from time import monotonic\n",
    "\n",
    "tic = monotonic()\n",
    "extract_prices_for_tariff_json(requests.get(_RESOURCE_JSON.format(day=date.today())).json())\n",
    "print(f\"JSON took {monotonic() - tic:.3f} sec\")\n",
    "\n",
    "tic = monotonic()\n",
    "extract_prices_for_tariff(requests.get(_RESOURCE.format(day=date.today())).text)\n",
    "print(f\"XML took {monotonic() - tic:.3f} sec\")"
   ]
  },
  {
   "cell_type": "code",
   "execution_count": null,
   "metadata": {},
   "outputs": [],
   "source": []
  }
 ],
 "metadata": {
  "kernelspec": {
   "display_name": "Python 3",
   "language": "python",
   "name": "python3"
  },
  "language_info": {
   "codemirror_mode": {
    "name": "ipython",
    "version": 3
   },
   "file_extension": ".py",
   "mimetype": "text/x-python",
   "name": "python",
   "nbconvert_exporter": "python",
   "pygments_lexer": "ipython3",
   "version": "3.8.1"
  }
 },
 "nbformat": 4,
 "nbformat_minor": 4
}
