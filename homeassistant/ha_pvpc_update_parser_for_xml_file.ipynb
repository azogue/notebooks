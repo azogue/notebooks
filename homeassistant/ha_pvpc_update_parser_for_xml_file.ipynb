{
 "cells": [
  {
   "cell_type": "markdown",
   "metadata": {},
   "source": [
    "# Update PVPC parsing engine\n",
    "\n",
    "Old version of the XML file parsing was implemented with `BeautifulSoup`, which is far too powerful and complex for the task at hand. \n",
    "\n",
    "Also, and because of this dependency, it can be seen as a _web scraper_, which are now discouraged of being included as new integrations in **HomeAssistant Core**.\n",
    "\n",
    "\n",
    "### Objective\n",
    "\n",
    "Make a simpler parser for the xml files downloaded from `https://api.esios.ree.es/archives/80/download?date=`, removing `bs4` dependency and using **`xmltodict`**, which is already in use in some HA integrations.\n",
    "\n",
    "\n",
    "#### Dependencies for this notebook\n",
    "\n",
    "- `requests`\n",
    "- `dateutil`\n",
    "- `xmltodict` (new xml parser)\n",
    "- `bs4` (for the old parser)"
   ]
  },
  {
   "cell_type": "code",
   "execution_count": 1,
   "metadata": {},
   "outputs": [
    {
     "name": "stdout",
     "output_type": "stream",
     "text": [
      "<PVPCDesgloseHorario xmlns=\"http://sujetos.esios.ree.es/schemas/2014/04/01/PVPCDesgloseHorario-esios-MP/\">\n",
      "<IdentificacionMensaje v=\"pvpcdesglosehorario_20200221\"/>\n",
      "<VersionMensaje v=\"1\"/>\n",
      "<TipoMensaje v=\"Z55\"/>\n",
      "<TipoProceso v=\"A01\"/>\n",
      "<TipoClasificacion v=\"A01\"/>\n",
      "<IdentificacionRemitente codificacion=\"A01\" v=\"10XES-REE------E\"/>\n",
      "<FuncionRemitente v=\"A04\"/>\n",
      "<IdentificacionDestinatario codificacion=\"A01\" v=\"10XES-REE------E\"/>\n",
      "<FuncionDestinatario v=\"A04\"/>\n",
      "<FechaHoraMensaje v=\"2020-02-20T19:50:32Z\"/>                        \n",
      "<Horizonte v=\"2020-02-20T23:00Z/2020-02-21T23:00Z\"/>\n",
      "<SeriesTemporales>\n"
     ]
    }
   ],
   "source": [
    "from datetime import date\n",
    "from typing import List, Tuple\n",
    "\n",
    "from dateutil.parser import parse\n",
    "from pytz import timezone\n",
    "\n",
    "import requests\n",
    "import xmltodict\n",
    "\n",
    "TZ = timezone(\"Europe/Madrid\")\n",
    "_RESOURCE = \"https://api.esios.ree.es/archives/80/download?date={day:%Y-%m-%d}\"\n",
    "\n",
    "# Get a file sample with today prices\n",
    "xml_data = requests.get(_RESOURCE.format(day=date.today())).text\n",
    "print(xml_data[:600])"
   ]
  },
  {
   "cell_type": "code",
   "execution_count": 2,
   "metadata": {},
   "outputs": [
    {
     "data": {
      "text/plain": [
       "(datetime.date(2020, 2, 21),\n",
       " [0.0466,\n",
       "  0.04465,\n",
       "  0.04352,\n",
       "  0.04384,\n",
       "  0.0439,\n",
       "  0.04544,\n",
       "  0.04956,\n",
       "  0.05336,\n",
       "  0.05259,\n",
       "  0.05307,\n",
       "  0.05224,\n",
       "  0.05208,\n",
       "  0.11715,\n",
       "  0.11673,\n",
       "  0.1163,\n",
       "  0.11633,\n",
       "  0.11652,\n",
       "  0.11908,\n",
       "  0.12304,\n",
       "  0.12859,\n",
       "  0.13041,\n",
       "  0.12941,\n",
       "  0.05938,\n",
       "  0.05647])"
      ]
     },
     "execution_count": 2,
     "metadata": {},
     "output_type": "execute_result"
    }
   ],
   "source": [
    "def extract_prices_for_tariff(\n",
    "    xml_data: str, tz: timezone = TZ, tariff: int = 2\n",
    ") -> Tuple[date, List[float]]:\n",
    "    \"\"\"\n",
    "    PVPC xml data extractor.\n",
    "    \n",
    "    Extract hourly prices for the selected tariff from the xml daily file download\n",
    "    of the official _Spain Electric Network_ (Red Eléctrica Española, REE) \n",
    "    for the _Voluntary Price for Small Consumers_ \n",
    "    (Precio Voluntario para el Pequeño Consumidor, PVPC).\n",
    "    \"\"\"\n",
    "    data = xmltodict.parse(xml_data)['PVPCDesgloseHorario']\n",
    "    \n",
    "    str_horiz = data['Horizonte']['@v']\n",
    "    day: date = parse(str_horiz.split(\"/\")[0]).astimezone(TZ).date()\n",
    "    \n",
    "    tariff_id = f\"Z0{tariff}\"\n",
    "    prices = next(\n",
    "        filter(\n",
    "            lambda x: (\n",
    "                x['TerminoCosteHorario']['@v'] == \"FEU\" \n",
    "                and x['TipoPrecio']['@v'] == tariff_id\n",
    "            ), \n",
    "            data['SeriesTemporales'],\n",
    "        )\n",
    "    )\n",
    "    price_values = [\n",
    "        round(float(pair[\"Ctd\"][\"@v\"]), 5) for pair in prices['Periodo'][\"Intervalo\"]\n",
    "    ]\n",
    "    return day, price_values\n",
    "\n",
    "\n",
    "day_prices = extract_prices_for_tariff(xml_data, TZ, tariff=2)\n",
    "day_prices"
   ]
  },
  {
   "cell_type": "code",
   "execution_count": 3,
   "metadata": {},
   "outputs": [
    {
     "data": {
      "text/plain": [
       "(datetime.date(2020, 2, 21),\n",
       " [0.0466,\n",
       "  0.04465,\n",
       "  0.04352,\n",
       "  0.04384,\n",
       "  0.0439,\n",
       "  0.04544,\n",
       "  0.04956,\n",
       "  0.05336,\n",
       "  0.05259,\n",
       "  0.05307,\n",
       "  0.05224,\n",
       "  0.05208,\n",
       "  0.11715,\n",
       "  0.11673,\n",
       "  0.1163,\n",
       "  0.11633,\n",
       "  0.11652,\n",
       "  0.11908,\n",
       "  0.12304,\n",
       "  0.12859,\n",
       "  0.13041,\n",
       "  0.12941,\n",
       "  0.05938,\n",
       "  0.05647])"
      ]
     },
     "execution_count": 3,
     "metadata": {},
     "output_type": "execute_result"
    }
   ],
   "source": [
    "# OLD version\n",
    "from bs4 import BeautifulSoup as Soup\n",
    "\n",
    "\n",
    "def scrap_xml_official_pvpc_daily_prices(\n",
    "    html_text: str, tz: timezone = TZ, tariff: int = 2\n",
    ") -> Tuple[date, List[float]]:\n",
    "    \"\"\"\n",
    "    Scrape XML file content to extract hourly prices for the selected tariff\n",
    "\n",
    "    Using `bs4` with 'html5lib' parser\n",
    "    \"\"\"\n",
    "    ident_tarifa = \"Z0{}\".format(tariff)\n",
    "    ident_precio = \"FEU\"\n",
    "\n",
    "    soup_pvpc = Soup(html_text, \"html5lib\")\n",
    "    str_horiz = soup_pvpc.find_all(\"horizonte\")[0][\"v\"]\n",
    "    ts_st = parse(str_horiz.split(\"/\")[0]).astimezone(tz).date()\n",
    "    for serie in soup_pvpc.find_all(\"identificacionseriestemporales\"):\n",
    "        columna = serie.find_next(\"terminocostehorario\")[\"v\"]\n",
    "        if (\n",
    "            columna == ident_precio\n",
    "            and serie.tipoprecio[\"v\"] == ident_tarifa\n",
    "            and len(serie.find_all(\"tipoprecio\")) > 0\n",
    "        ):\n",
    "            values = [round(float(v[\"v\"]), 5) for v in serie.find_all(\"ctd\")]\n",
    "            return ts_st, values\n",
    "    return ts_st, []\n",
    "\n",
    "\n",
    "day_prices_old = scrap_xml_official_pvpc_daily_prices(xml_data, TZ, tariff=2)\n",
    "day_prices_old"
   ]
  },
  {
   "cell_type": "code",
   "execution_count": 4,
   "metadata": {},
   "outputs": [
    {
     "name": "stdout",
     "output_type": "stream",
     "text": [
      "5.87 ms ± 52.3 µs per loop (mean ± std. dev. of 7 runs, 100 loops each)\n",
      "68.7 ms ± 593 µs per loop (mean ± std. dev. of 7 runs, 10 loops each)\n"
     ]
    }
   ],
   "source": [
    "# Comparison\n",
    "assert day_prices == day_prices_old\n",
    "%timeit extract_prices_for_tariff(xml_data)\n",
    "%timeit scrap_xml_official_pvpc_daily_prices(xml_data)"
   ]
  },
  {
   "cell_type": "code",
   "execution_count": null,
   "metadata": {},
   "outputs": [],
   "source": []
  }
 ],
 "metadata": {
  "kernelspec": {
   "display_name": "Python 3",
   "language": "python",
   "name": "python3"
  },
  "language_info": {
   "codemirror_mode": {
    "name": "ipython",
    "version": 3
   },
   "file_extension": ".py",
   "mimetype": "text/x-python",
   "name": "python",
   "nbconvert_exporter": "python",
   "pygments_lexer": "ipython3",
   "version": "3.8.1"
  }
 },
 "nbformat": 4,
 "nbformat_minor": 4
}
